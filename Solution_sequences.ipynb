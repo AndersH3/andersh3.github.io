{
 "cells": [
  {
   "cell_type": "code",
   "execution_count": null,
   "metadata": {},
   "outputs": [],
   "source": [
    "^,1, 2, 4, 14, 34, 5154, ?????, ... (^ = cannot be extended to the left).\n",
    "An \"opposite\" sequence related to this one: ^,1, 2, 4, 14, 6, ?, 3, 427010, \n",
    "The \"middle\" sequence: ^,1, 1|2, 1|2|4, 1|2|4|14, 1|2|4|6|14|34, ?\n",
    "The evenness of the numbers isn't a useful pattern as far as I know.\n",
    "HINT: Euclid's Proof of the Infinitude of Primes [https://primes.utm.edu/notes/proofs/infinite/euclids.html]"
   ]
  },
  {
   "cell_type": "markdown",
   "metadata": {},
   "source": [
    "The key functions are product plus one and prime-order. The numbers in sequences are the orders of the primes.\n",
    "All three sequences are made by product-plus-one operating on a set(no duplicate primes). In the first sequence(as listed here) all new primes are added. In the next, the greatest and in the last, the smallest prime factor."
   ]
  },
  {
   "cell_type": "code",
   "execution_count": 119,
   "metadata": {},
   "outputs": [
    {
     "name": "stdout",
     "output_type": "stream",
     "text": [
      "1, 1|2, 1|2|4, 1|2|4|14, 1|2|4|6|14|34, 1|2|4|6|14|34|234477, 1|2|4|6|14|34|101|111|174|3345|234477, 1|2|4|6|14|34|101|111|174|3238|3345|6676|234477|609871|288962007\n"
     ]
    }
   ],
   "source": [
    "print(seq3P(seq3(2,8)))"
   ]
  },
  {
   "cell_type": "code",
   "execution_count": 120,
   "metadata": {},
   "outputs": [
    {
     "name": "stdout",
     "output_type": "stream",
     "text": [
      "1, 2, 4, 14, 34, 5154, 29266, 86161548656\n"
     ]
    }
   ],
   "source": [
    "print(seqP(seq1(2,8)))"
   ]
  },
  {
   "cell_type": "code",
   "execution_count": 121,
   "metadata": {},
   "outputs": [
    {
     "name": "stdout",
     "output_type": "stream",
     "text": [
      "1, 2, 4, 14, 6, 16, 3, 427010\n"
     ]
    }
   ],
   "source": [
    "print(seqP(seq2(2,8)))"
   ]
  },
  {
   "cell_type": "markdown",
   "metadata": {},
   "source": [
    "# Utility functions"
   ]
  },
  {
   "cell_type": "code",
   "execution_count": 122,
   "metadata": {},
   "outputs": [],
   "source": [
    "def gpf(n):\n",
    "    return last(factor1(n))\n",
    "\n",
    "def lpf(n):\n",
    "    return first(factor1(n))\n",
    "    \n",
    "def prodPlusOne(L):\n",
    "    L=set(L)\n",
    "    res=1\n",
    "    for e in L:\n",
    "        res = res*e\n",
    "    return res+1\n",
    "\n",
    "def first(L):\n",
    "    L=list(L)\n",
    "    return(L[0])\n",
    "\n",
    "def last(L):\n",
    "    return(list(L)[-1])\n",
    "\n",
    "#https://ask.sagemath.org/question/33493/list-of-prime-factors-with-repetition/\n",
    "def factor1(n):\n",
    "    F = factor(n)\n",
    "    L=[p for (p, m) in F for _ in range(m)]\n",
    "    L=list(set(L))\n",
    "    L.sort()\n",
    "    return L\n",
    "\n",
    "def indexOf(p):\n",
    "    return prime_pi(p)\n",
    "\n",
    "def seq1(p,n):\n",
    "    L=[p]\n",
    "    L2=[indexOf(p)]\n",
    "    for i in range(1,n):\n",
    "        m = gpf(prodPlusOne(L))\n",
    "        L2.append((indexOf(m)))\n",
    "        L.append(m)\n",
    "    L2.sort()\n",
    "    L.sort()\n",
    "    return [L,L2]    \n",
    "\n",
    "def seq2(p,n):\n",
    "    L=[p]\n",
    "    L2=[indexOf(p)]\n",
    "    for i in range(1,n):\n",
    "        m = lpf(prodPlusOne(L))\n",
    "        L2.append((indexOf(m)))\n",
    "        L.append(m)\n",
    "    return [L,L2] \n",
    "\n",
    "def indexOfL(L):\n",
    "    LL=[]\n",
    "    for p in L:\n",
    "        LL.append(indexOf(p))\n",
    "    return LL\n",
    "    \n",
    "    \n",
    "\n",
    "def seq3(p,n):\n",
    "    LL=[]\n",
    "    LL2=[[indexOf(p)]]\n",
    "    L=[p]\n",
    "    L2=[]\n",
    "    for i in range(1,n):\n",
    "        L2 = factor1(prodPlusOne(L))\n",
    "        L=list(set(L+L2))\n",
    "        L.sort()\n",
    "        LL.append(L)\n",
    "        LL2.append(indexOfL(L))\n",
    "    return LL2\n",
    "\n",
    "def seqP(LL):\n",
    "    L=LL[1]\n",
    "    t=\"\"\n",
    "    for i in L:\n",
    "        t=t+\", \"+str(i)\n",
    "    t=t.strip(\" ,\")\n",
    "    return t\n",
    "\n",
    "def seq3P(LL):\n",
    "    t=\"\"\n",
    "    for L in LL:\n",
    "        s=\"\"\n",
    "        for i in L:\n",
    "            s=s+\"|\"+str(i)\n",
    "        s=s.strip(\"|\")\n",
    "        t=t+\", \"+s\n",
    "    t=t.strip(\" ,\")\n",
    "    return t\n"
   ]
  },
  {
   "cell_type": "code",
   "execution_count": null,
   "metadata": {},
   "outputs": [],
   "source": []
  }
 ],
 "metadata": {
  "kernelspec": {
   "display_name": "SageMath 8.6",
   "language": "",
   "name": "sagemath"
  },
  "language_info": {
   "codemirror_mode": {
    "name": "ipython",
    "version": 2
   },
   "file_extension": ".py",
   "mimetype": "text/x-python",
   "name": "python",
   "nbconvert_exporter": "python",
   "pygments_lexer": "ipython2",
   "version": "2.7.16"
  }
 },
 "nbformat": 4,
 "nbformat_minor": 2
}
