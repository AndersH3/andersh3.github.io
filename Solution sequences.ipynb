{
 "cells": [
  {
   "cell_type": "markdown",
   "metadata": {},
   "source": [
    "^,1, 2, 4, 14, 34, 5154, ?????, ... (^ = cannot be extended to the left).\n",
    "An \"opposite\" sequence related to this one: ^,1, 2, 4, 14, 6, ?, 3, 427010, \n",
    "The \"middle\" sequence: ^,1, 1|2, 1|2|4, 1|2|4|14, 1|2|4|6|14|34, ?\n",
    "The evenness of the numbers isn't a useful pattern as far as I know.\n",
    "HINT: Euclid's Proof of the Infinitude of Primes [https://primes.utm.edu/notes/proofs/infinite/euclids.html]"
   ]
  },
  {
   "cell_type": "markdown",
   "metadata": {},
   "source": [
    "---"
   ]
  },
  {
   "cell_type": "markdown",
   "metadata": {},
   "source": [
    "The key functions are product plus one and prime-order. The numbers in sequences are the orders of the primes.\n",
    "All three sequences are made by product-plus-one operating on a set(no duplicate primes). In the first sequence(as listed here) all new primes are added. In the next, the greatest and in the last, the smallest prime factor."
   ]
  },
  {
   "cell_type": "markdown",
   "metadata": {},
   "source": [
    "Using SageMath 8.6: [https://www.sagemath.org/]"
   ]
  },
  {
   "cell_type": "code",
   "execution_count": 66,
   "metadata": {},
   "outputs": [
    {
     "name": "stdout",
     "output_type": "stream",
     "text": [
      "1, 1|2, 1|2|4, 1|2|4|14, 1|2|4|6|14|34, 1|2|4|6|14|34|234477, 1|2|4|6|14|34|101|111|174|3345|234477, 1|2|4|6|14|34|101|111|174|3238|3345|6676|234477|609871|288962007\n"
     ]
    }
   ],
   "source": [
    "print(seqVerticalBar(seq3(2,8)))"
   ]
  },
  {
   "cell_type": "code",
   "execution_count": 67,
   "metadata": {},
   "outputs": [
    {
     "name": "stdout",
     "output_type": "stream",
     "text": [
      "1, 2, 4, 14, 34, 5154, 29266, 86161548656\n"
     ]
    }
   ],
   "source": [
    "print(seqPrint(seq1(2,8)))"
   ]
  },
  {
   "cell_type": "code",
   "execution_count": 68,
   "metadata": {},
   "outputs": [
    {
     "name": "stdout",
     "output_type": "stream",
     "text": [
      "1, 2, 4, 14, 6, 16, 3, 427010\n"
     ]
    }
   ],
   "source": [
    "print(seqPrint(seq2(2,8)))"
   ]
  },
  {
   "cell_type": "markdown",
   "metadata": {},
   "source": [
    "# Functions"
   ]
  },
  {
   "cell_type": "code",
   "execution_count": 69,
   "metadata": {},
   "outputs": [],
   "source": [
    "#Greatest prime factor of a number\n",
    "def gpf(n):\n",
    "    return last(factor1(n))\n",
    "\n",
    "#Least prime factor of a number\n",
    "def lpf(n):\n",
    "    return first(factor1(n))\n",
    "    \n",
    "#Product of a set plus one\n",
    "def prodPlusOne(L):\n",
    "    L=set(L)\n",
    "    res=1\n",
    "    for e in L:\n",
    "        res = res*e\n",
    "    return res+1\n",
    "\n",
    "#First element of a list. \n",
    "def first(L):\n",
    "    L=list(L)\n",
    "    return(L[0])\n",
    "\n",
    "#Last element of a list.\n",
    "def last(L):\n",
    "    return(list(L)[-1])\n",
    "\n",
    "#Unique factors of a number(no dupliates). Or factors as a set.\n",
    "#https://ask.sagemath.org/question/33493/list-of-prime-factors-with-repetition/\n",
    "def factor1(n):\n",
    "    F = factor(n)\n",
    "    L=[p for (p, m) in F for _ in range(m)]\n",
    "    L=list(set(L))\n",
    "    L.sort()\n",
    "    return L\n",
    "\n",
    "#Index of prime 2=>1 3=>2 ... \n",
    "def indexOf(p):\n",
    "    return prime_pi(p)\n",
    "\n",
    "#Change whole list of primes to indexes.\n",
    "def indexOfL(L):\n",
    "    return map(indexOf,L)\n",
    "\n",
    "#Change whole list-of-lists of primes to indexes.\n",
    "def indexOfLL(LL):\n",
    "    LL2=[]\n",
    "    for L in LL:\n",
    "        LL2.append(map(indexOf,L))\n",
    "    return LL2\n",
    "\n",
    "#gpf are added.\n",
    "def seq1(p,n):\n",
    "    L=[p] #Starting prime\n",
    "    for i in range(1,n):\n",
    "        L.append(gpf(prodPlusOne(L)))\n",
    "    return indexOfL(L)   \n",
    "\n",
    "#lpf are added.\n",
    "def seq2(p,n):\n",
    "    L=[p] #Starting prime\n",
    "    for i in range(1,n):\n",
    "        L.append(lpf(prodPlusOne(L)))\n",
    "    return indexOfL(L) \n",
    "\n",
    "#All new factors are added(the set is represented sorted).\n",
    "def seq3(p,n):\n",
    "    L=[p]\n",
    "    LL=[L]\n",
    "    for i in range(1,n):\n",
    "        L=list(set(L+(factor1(prodPlusOne(L)))))\n",
    "        L.sort()\n",
    "        LL.append(L)\n",
    "    return indexOfLL(LL)\n",
    "\n",
    "#Regular seq print OEIS format.\n",
    "#https://en.wikipedia.org/wiki/On-Line_Encyclopedia_of_Integer_Sequences\n",
    "def seqPrint(L):\n",
    "    return ', '.join(map(str,L))\n",
    "\n",
    "#Print with Vertical bar.\n",
    "#https://en.wikipedia.org/wiki/Vertical_bar\n",
    "def seqVerticalBar(LL):\n",
    "    LL2=[]\n",
    "    for L in LL:\n",
    "        LL2.append('|'.join(map(str,L)))\n",
    "    return ', '.join(map(str,LL2))\n",
    "\n",
    "\n"
   ]
  },
  {
   "cell_type": "markdown",
   "metadata": {},
   "source": [
    "---"
   ]
  }
 ],
 "metadata": {
  "kernelspec": {
   "display_name": "SageMath 8.6",
   "language": "",
   "name": "sagemath"
  },
  "language_info": {
   "codemirror_mode": {
    "name": "ipython",
    "version": 2
   },
   "file_extension": ".py",
   "mimetype": "text/x-python",
   "name": "python",
   "nbconvert_exporter": "python",
   "pygments_lexer": "ipython2",
   "version": "2.7.16"
  }
 },
 "nbformat": 4,
 "nbformat_minor": 2
}
